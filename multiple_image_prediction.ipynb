{
 "cells": [
  {
   "cell_type": "code",
   "execution_count": 1,
   "metadata": {},
   "outputs": [],
   "source": [
    "from imageai.Prediction import ImagePrediction\n",
    "import os"
   ]
  },
  {
   "cell_type": "code",
   "execution_count": 2,
   "metadata": {},
   "outputs": [],
   "source": [
    "#getting the current working directory\n",
    "execution_path = os.getcwd()"
   ]
  },
  {
   "cell_type": "code",
   "execution_count": 3,
   "metadata": {},
   "outputs": [],
   "source": [
    "#initializing the model\n",
    "multiple_prediction = ImagePrediction()\n",
    "multiple_prediction.setModelTypeAsResNet()\n",
    "multiple_prediction.setModelPath(os.path.join(execution_path, \"models/resnet50_weights_tf_dim_ordering_tf_kernels.h5\"))\n",
    "multiple_prediction.loadModel()"
   ]
  },
  {
   "cell_type": "code",
   "execution_count": 4,
   "metadata": {},
   "outputs": [],
   "source": [
    "#Getting all the .jpg and .png images from the image array and storing in a list\n",
    "all_images_array = []\n",
    "all_files = os.listdir(os.path.join(execution_path, \"images\"))\n",
    "for each_file in all_files:\n",
    "    if(each_file.endswith(\".jpg\") or each_file.endswith(\".png\")):\n",
    "        all_images_array.append(os.path.join(execution_path, \"images\",each_file))"
   ]
  },
  {
   "cell_type": "code",
   "execution_count": 5,
   "metadata": {},
   "outputs": [],
   "source": [
    "#predicting all the images\n",
    "results_array = multiple_prediction.predictMultipleImages(all_images_array, result_count_per_image=2)"
   ]
  },
  {
   "cell_type": "code",
   "execution_count": 6,
   "metadata": {},
   "outputs": [
    {
     "name": "stdout",
     "output_type": "stream",
     "text": [
      "folding_chair  :  70.62543034553528\n",
      "desk  :  14.946064352989197\n",
      "-----------------------\n",
      "crash_helmet  :  77.5252640247345\n",
      "moped  :  9.318716824054718\n",
      "-----------------------\n",
      "convertible  :  52.582162618637085\n",
      "sports_car  :  37.66416907310486\n",
      "-----------------------\n"
     ]
    }
   ],
   "source": [
    "#printing the results from each of the prediction\n",
    "for each_result in results_array:\n",
    "    predictions, percentage_probabilities = each_result[\"predictions\"], each_result[\"percentage_probabilities\"]\n",
    "    for index in range(len(predictions)):\n",
    "        print(predictions[index] , \" : \" , percentage_probabilities[index])\n",
    "    print(\"-----------------------\")"
   ]
  },
  {
   "cell_type": "code",
   "execution_count": null,
   "metadata": {},
   "outputs": [],
   "source": []
  }
 ],
 "metadata": {
  "kernelspec": {
   "display_name": "Python 3",
   "language": "python",
   "name": "python3"
  },
  "language_info": {
   "codemirror_mode": {
    "name": "ipython",
    "version": 3
   },
   "file_extension": ".py",
   "mimetype": "text/x-python",
   "name": "python",
   "nbconvert_exporter": "python",
   "pygments_lexer": "ipython3",
   "version": "3.6.5"
  }
 },
 "nbformat": 4,
 "nbformat_minor": 4
}
